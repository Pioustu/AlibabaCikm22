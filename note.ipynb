{
 "cells": [
  {
   "cell_type": "code",
   "execution_count": null,
   "metadata": {},
   "outputs": [],
   "source": []
  },
  {
   "cell_type": "markdown",
   "metadata": {},
   "source": [
    "circle.py 49.8  \n",
    "model_dir: circle_best  \n",
    "load_gnn: 使用lin来判断  \n",
    "model.py: 多使用了一个norm层（将之前少的norm层补回来）  \n",
    "client: 2,5 edge_dim=0  \n",
    "is_lr = 0.001  \n",
    "ci_lr = 0.001  \n",
    "ft_lr = 0.001  \n",
    "is_ep = 1  \n",
    "ft_ep = 5  \n",
    "ci_ep = 1  \n",
    "\n",
    "for j, client in enumerate(all_client):\n",
    "    client.update(encoder=True,gnn=True,linear=True,clf=True,stage='is',kd=False)\n",
    "\n",
    "for j, client in enumerate(all_client):\n",
    "    p_client = all_client[j-1]\n",
    "    p_weight = copy.deepcopy(p_client.model.state_dict())\n",
    "    client.load_gnn(p_weight)\n",
    "    client.update(encoder=False,gnn=True,linear=False,clf=False,stage='ci',kd=False)\n",
    "\n",
    "for j, client in enumerate(all_client):\n",
    "    client.update(encoder=True,gnn=False,linear=True,clf=True,stage='ft',kd=False)\n",
    "    val_error.append(client.error)\n",
    "    best_val_error.append(client.best_error)"
   ]
  }
 ],
 "metadata": {
  "language_info": {
   "name": "python"
  },
  "orig_nbformat": 4
 },
 "nbformat": 4,
 "nbformat_minor": 2
}
